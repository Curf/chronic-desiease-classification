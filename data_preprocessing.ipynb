{
 "cells": [
  {
   "cell_type": "code",
   "execution_count": 1,
   "metadata": {},
   "outputs": [],
   "source": [
    "import pandas as pd\n",
    "import numpy as np\n",
    "from sklearn.model_selection import train_test_split\n",
    "from sklearn.decomposition import PCA"
   ]
  },
  {
   "cell_type": "code",
   "execution_count": 2,
   "metadata": {},
   "outputs": [],
   "source": [
    "# Import data\n",
    "df = pd.read_sas('./data/LLCP2017.XPT')\n",
    "df=df.drop(['IDATE', 'IMONTH', 'IDAY', 'IYEAR', 'SEQNO', 'DLYOTHER'], axis=1)\n",
    "df=df.fillna(0)"
   ]
  },
  {
   "cell_type": "markdown",
   "metadata": {},
   "source": [
    "## Chronic Health Issues Columns"
   ]
  },
  {
   "cell_type": "code",
   "execution_count": 3,
   "metadata": {},
   "outputs": [],
   "source": [
    "CHRONIC_ILL_cols=['CVDINFR4', 'CVDCRHD4', 'CVDSTRK3', 'ASTHMA3', 'CHCSCNCR', 'CHCOCNCR','CHCCOPD1', 'HAVARTH3', 'ADDEPEV2', 'CHCKIDNY']"
   ]
  },
  {
   "cell_type": "code",
   "execution_count": 4,
   "metadata": {},
   "outputs": [],
   "source": [
    "## FINDING ALL THE ROWS WHICH HAVE YES/NO VALUES FOR THE TARGET COLUMNS\n",
    "TRUE_INDEX=((df[CHRONIC_ILL_cols]==1)|(df[CHRONIC_ILL_cols]==2)).all(axis=1)\n",
    "df=df[TRUE_INDEX]"
   ]
  },
  {
   "cell_type": "code",
   "execution_count": 5,
   "metadata": {},
   "outputs": [
    {
     "name": "stdout",
     "output_type": "stream",
     "text": [
      "(433867, 10)\n",
      "(433867, 342)\n"
     ]
    }
   ],
   "source": [
    "df_y=df[CHRONIC_ILL_cols]\n",
    "# np.where ==> place a \"0\" where there is \"2\", otherwise, place a \"1\" \n",
    "df_y=np.where(df_y==2, 0, 1)\n",
    "df_x=df.drop(CHRONIC_ILL_cols,axis=1)"
   ]
  },
  {
   "cell_type": "code",
   "execution_count": 6,
   "metadata": {},
   "outputs": [],
   "source": [
    "bad_index_positions1 = [indx for indx, val in enumerate(np.mean(df_x, axis=0)) if val == 0]\n",
    "bad_index_positions2 = [indx for indx, val in enumerate(np.std(df_x, axis = 0, ddof = 1)) if val == 0]\n",
    "remove_cols = [col for i, col in enumerate(df_x.columns) if i in bad_index_positions1]\n",
    "df_x=df_x.drop(df_x.columns[bad_index_positions1], axis=1)"
   ]
  },
  {
   "cell_type": "code",
   "execution_count": 7,
   "metadata": {},
   "outputs": [],
   "source": [
    "# Train-Test Split\n",
    "X_train, x_test, Y_train, y_test=train_test_split(df_x, df_y, test_size=0.33, random_state=42)"
   ]
  },
  {
   "cell_type": "code",
   "execution_count": 8,
   "metadata": {},
   "outputs": [],
   "source": [
    "#compute mean and standard deviation of training set\n",
    "Mu_train = np.mean(X_train, axis = 0)\n",
    "Sigma_train = np.std(X_train, axis = 0, ddof = 1)\n",
    "\n",
    "Mu_test = np.mean(x_test, axis = 0)\n",
    "Sigma_test = np.std(x_test, axis = 0, ddof = 1)"
   ]
  },
  {
   "cell_type": "code",
   "execution_count": 9,
   "metadata": {},
   "outputs": [],
   "source": [
    "X_train_stdz=(X_train-Mu_train)/Sigma_train\n",
    "X_test_stdz=(x_test-Mu_test)/Sigma_test"
   ]
  },
  {
   "cell_type": "markdown",
   "metadata": {},
   "source": [
    "## DROP ANY ROWS WITH NAN VALUES"
   ]
  },
  {
   "cell_type": "code",
   "execution_count": 10,
   "metadata": {},
   "outputs": [],
   "source": [
    "TRAIN_NAN_ROWS = X_train_stdz.isnull().any().values.nonzero()[0]\n",
    "TEST_NAN_ROWS = X_test_stdz.isnull().any().values.nonzero()[0]\n",
    "Y_train=np.delete(Y_train, TRAIN_NAN_ROWS, axis=1)\n",
    "y_test=np.delete(y_test, TEST_NAN_ROWS, axis=1)\n",
    "\n",
    "X_train_stdz=X_train_stdz.dropna(axis=1)\n",
    "X_test_stdz=X_test_stdz.dropna(axis=1)"
   ]
  },
  {
   "cell_type": "markdown",
   "metadata": {},
   "source": [
    "# PCA"
   ]
  },
  {
   "cell_type": "code",
   "execution_count": 11,
   "metadata": {},
   "outputs": [],
   "source": [
    "## USE THE PCA MODULE TO SIMPLY APPLY PCA AND TAKE CARE OF RHE COMPLEX VALUE ISSUE\n",
    "sk_pca=PCA(0.95)\n",
    "sk_pca.fit(X_train_stdz)\n",
    "train_pca=sk_pca.transform(X_train_stdz)\n",
    "test_pca=sk_pca.transform(X_test_stdz)"
   ]
  },
  {
   "cell_type": "code",
   "execution_count": 14,
   "metadata": {},
   "outputs": [],
   "source": [
    "#np.save('./data/TRAIN_PCA.npy', train_pca)\n",
    "#np.save('./data/TRAIN_Y.npy', Y_train)\n",
    "#np.save('./data/TRAIN_FULL.npy', X_train_stdz)"
   ]
  },
  {
   "cell_type": "code",
   "execution_count": 13,
   "metadata": {},
   "outputs": [],
   "source": [
    "#np.save('./data/TEST_PCA.npy', test_pca)\n",
    "#np.save('./data/TEST_Y.npy', y_test)\n",
    "#np.save('./data/TEST_FULL.npy', X_test_stdz)"
   ]
  }
 ],
 "metadata": {
  "kernelspec": {
   "display_name": "Python 3",
   "language": "python",
   "name": "python3"
  },
  "language_info": {
   "codemirror_mode": {
    "name": "ipython",
    "version": 3
   },
   "file_extension": ".py",
   "mimetype": "text/x-python",
   "name": "python",
   "nbconvert_exporter": "python",
   "pygments_lexer": "ipython3",
   "version": "3.7.9"
  }
 },
 "nbformat": 4,
 "nbformat_minor": 4
}
